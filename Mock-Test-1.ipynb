{
 "cells": [
  {
   "cell_type": "markdown",
   "id": "d4a44ff6",
   "metadata": {},
   "source": [
    "# Move Zeroes\n",
    "Given an integer array nums, move all 0's to the end of it while maintaining the relative order of the non-zero elements.\n",
    "\n",
    "Note that you must do this in-place without making a copy of the array.\n",
    "\n",
    "Example 1:\n",
    "Input: nums = [0,1,0,3,12]\n",
    "Output: [1,3,12,0,0]\n",
    "\n",
    "Example 2:\n",
    "Input: nums = [0]\n",
    "Output: [0]"
   ]
  },
  {
   "cell_type": "code",
   "execution_count": 1,
   "id": "8f20088f",
   "metadata": {},
   "outputs": [
    {
     "name": "stdout",
     "output_type": "stream",
     "text": [
      "[1, 3, 12, 0, 0]\n"
     ]
    }
   ],
   "source": [
    "A = [0,1,0,3,12]\n",
    "n = len(A)\n",
    "j = 0\n",
    "for i in range(n):\n",
    "    if A[i] != 0:\n",
    "        A[j], A[i] = A[i], A[j]  # Partitioning the array\n",
    "        j += 1\n",
    "print(A) "
   ]
  },
  {
   "cell_type": "code",
   "execution_count": 2,
   "id": "a4727f58",
   "metadata": {},
   "outputs": [
    {
     "name": "stdout",
     "output_type": "stream",
     "text": [
      "[0]\n"
     ]
    }
   ],
   "source": [
    "A = [0]\n",
    "n = len(A)\n",
    "j = 0\n",
    "for i in range(n):\n",
    "    if A[i] != 0:\n",
    "        A[j], A[i] = A[i], A[j]  # Partitioning the array\n",
    "        j += 1\n",
    "print(A)"
   ]
  },
  {
   "cell_type": "markdown",
   "id": "bcfd09a0",
   "metadata": {},
   "source": [
    "# First Unique Character in a String\n",
    "\n",
    "Given a string s, find the first non-repeating character in it and return its index. If it does not exist, return -1.\n",
    "\n",
    "Example 1:\n",
    "Input: s = \"leetcode\"\n",
    "Output: 0\n",
    "\n",
    "Example 2:\n",
    "Input: s = \"loveleetcode\"\n",
    "Output: 2\n",
    "\n",
    "Example 3:\n",
    "Input: s = \"aabb\"\n",
    "Output: -1\n"
   ]
  },
  {
   "cell_type": "code",
   "execution_count": 3,
   "id": "2522e415",
   "metadata": {},
   "outputs": [],
   "source": [
    "def firstUniqChar(s):\n",
    "    # Step 1: Create a dictionary to store character counts\n",
    "    char_counts = {}\n",
    "    \n",
    "    # Step 2: Iterate through the string and update the count\n",
    "    for char in s:\n",
    "        if char in char_counts:\n",
    "            char_counts[char] += 1\n",
    "        else:\n",
    "            char_counts[char] = 1\n",
    "    \n",
    "    # Step 3: Iterate through the string and find the first non-repeating character\n",
    "    for i in range(len(s)):\n",
    "        if char_counts[s[i]] == 1:\n",
    "            # Step 4: Return the index of the first non-repeating character\n",
    "            return i\n",
    "    \n",
    "    # If no non-repeating character is found, return -1\n",
    "    return -1\n"
   ]
  },
  {
   "cell_type": "code",
   "execution_count": 4,
   "id": "01275649",
   "metadata": {},
   "outputs": [
    {
     "name": "stdout",
     "output_type": "stream",
     "text": [
      "0\n",
      "2\n",
      "-1\n"
     ]
    }
   ],
   "source": [
    "s1 = \"leetcode\"\n",
    "print(firstUniqChar(s1))\n",
    "\n",
    "s2 = \"loveleetcode\"\n",
    "print(firstUniqChar(s2))\n",
    "\n",
    "s3 = \"aabbcc\"\n",
    "print(firstUniqChar(s3))"
   ]
  },
  {
   "cell_type": "code",
   "execution_count": null,
   "id": "1c8d8021",
   "metadata": {},
   "outputs": [],
   "source": []
  }
 ],
 "metadata": {
  "kernelspec": {
   "display_name": "Python 3 (ipykernel)",
   "language": "python",
   "name": "python3"
  },
  "language_info": {
   "codemirror_mode": {
    "name": "ipython",
    "version": 3
   },
   "file_extension": ".py",
   "mimetype": "text/x-python",
   "name": "python",
   "nbconvert_exporter": "python",
   "pygments_lexer": "ipython3",
   "version": "3.10.9"
  }
 },
 "nbformat": 4,
 "nbformat_minor": 5
}
